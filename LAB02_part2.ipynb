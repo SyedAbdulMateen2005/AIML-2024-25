{
  "nbformat": 4,
  "nbformat_minor": 0,
  "metadata": {
    "colab": {
      "provenance": [],
      "authorship_tag": "ABX9TyPR2+rDB/6u9sIV2IXxl99v",
      "include_colab_link": true
    },
    "kernelspec": {
      "name": "python3",
      "display_name": "Python 3"
    },
    "language_info": {
      "name": "python"
    }
  },
  "cells": [
    {
      "cell_type": "markdown",
      "metadata": {
        "id": "view-in-github",
        "colab_type": "text"
      },
      "source": [
        "<a href=\"https://colab.research.google.com/github/SyedAbdulMateen2005/AIML-2024-25/blob/main/LAB02_part2.ipynb\" target=\"_parent\"><img src=\"https://colab.research.google.com/assets/colab-badge.svg\" alt=\"Open In Colab\"/></a>"
      ]
    },
    {
      "cell_type": "code",
      "execution_count": 3,
      "metadata": {
        "colab": {
          "base_uri": "https://localhost:8080/"
        },
        "id": "FDk5uvoLYl7h",
        "outputId": "591bd424-629f-4455-aa64-59a010e8b4ae"
      },
      "outputs": [
        {
          "output_type": "stream",
          "name": "stdout",
          "text": [
            "['B', 'A', 'C', 'D', 'E', 'H', 'F', 'G']\n"
          ]
        }
      ],
      "source": [
        "def dfs(graph, start, visited=None, order=None):\n",
        "    if visited is None:\n",
        "        visited = set()\n",
        "    if order is None:\n",
        "        order = []\n",
        "\n",
        "    visited.add(start)\n",
        "    order.append(start)\n",
        "\n",
        "\n",
        "    for neighbor in graph[start]:\n",
        "        if neighbor not in visited:\n",
        "            dfs(graph, neighbor, visited, order)\n",
        "\n",
        "    return order\n",
        "\n",
        "\n",
        "graph1 = {\n",
        "    'A': ['B', 'C', 'G'],\n",
        "    'B': ['A'],\n",
        "    'C': ['A', 'D', 'F'],\n",
        "    'D': ['A', 'C', 'E', 'H'],\n",
        "    'E': ['D', 'H', 'F'],\n",
        "    'F': ['C', 'E', 'G'],\n",
        "    'G': ['A', 'F'],\n",
        "    'H': ['D', 'E']\n",
        "}\n",
        "\n",
        "order = dfs(graph1, 'B')
        "print(order)\n"
      ]
    }
  ]
}
